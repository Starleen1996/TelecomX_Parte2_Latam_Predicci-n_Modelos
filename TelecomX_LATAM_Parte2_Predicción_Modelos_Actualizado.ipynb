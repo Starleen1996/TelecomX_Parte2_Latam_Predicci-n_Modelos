{
  "nbformat": 4,
  "nbformat_minor": 0,
  "metadata": {
    "colab": {
      "provenance": [],
      "authorship_tag": "ABX9TyPQIIyMCDjeTsCbfSaenusq",
      "include_colab_link": true
    },
    "kernelspec": {
      "name": "python3",
      "display_name": "Python 3"
    },
    "language_info": {
      "name": "python"
    }
  },
  "cells": [
    {
      "cell_type": "markdown",
      "metadata": {
        "id": "view-in-github",
        "colab_type": "text"
      },
      "source": [
        "<a href=\"https://colab.research.google.com/github/Starleen1996/TelecomX_Parte2_Latam_Predicci-n_Modelos/blob/main/TelecomX_LATAM_Parte2_Predicci%C3%B3n_Modelos_Actualizado.ipynb\" target=\"_parent\"><img src=\"https://colab.research.google.com/assets/colab-badge.svg\" alt=\"Open In Colab\"/></a>"
      ]
    },
    {
      "cell_type": "markdown",
      "source": [
        "# CHALLENGER TELECOM_X_PARTE_2 PREVISIÓN DE MODELOS CON MACHINE LEARNING"
      ],
      "metadata": {
        "id": "8mlhpkHxWy11"
      }
    },
    {
      "cell_type": "code",
      "execution_count": 1,
      "metadata": {
        "id": "YG4nMlKnVqI_"
      },
      "outputs": [],
      "source": [
        "import requests\n",
        "import json\n",
        "import pandas as pd\n",
        "import sklearn\n",
        "import pickle\n",
        "import numpy as np\n",
        "import matplotlib\n"
      ]
    },
    {
      "cell_type": "code",
      "source": [],
      "metadata": {
        "id": "MRl_OFwUXC71"
      },
      "execution_count": null,
      "outputs": []
    }
  ]
}